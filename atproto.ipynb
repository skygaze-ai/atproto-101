{
 "cells": [
  {
   "cell_type": "markdown",
   "id": "fec12398-b882-4698-85c8-9e03414a82cc",
   "metadata": {
    "editable": true,
    "slideshow": {
     "slide_type": ""
    },
    "tags": []
   },
   "source": [
    "# AT Protocol Crash Course\n",
    "\n",
    "The Authenticated Transfer Protocol, aka atproto, is a federated protocol for large-scale distributed social applications. [What this notebook is- this notebook will introduce how to interact with the data on the protocol, all of which is publicly available].\n",
    "\n",
    "We'll use Python, without an SDK, so you can see how it works behind the scenes, but SDKs for multiple languages have been developed, including [Typescript](https://github.com/bluesky-social/atproto/tree/main/packages/api), [Python](https://atproto.blue/), [Dart](https://atprotodart.com/), and [Go](https://github.com/bluesky-social/indigo/tree/main).\n",
    "\n",
    "[If you're looking for further etc. etc.- Link to bot and feed generator templates]"
   ]
  },
  {
   "cell_type": "code",
   "execution_count": 38,
   "id": "8983df2c-9247-4aa3-b357-76df82697860",
   "metadata": {
    "editable": true,
    "slideshow": {
     "slide_type": ""
    },
    "tags": []
   },
   "outputs": [],
   "source": [
    "%%capture\n",
    "!pip install requests;\n",
    "\n",
    "import pprint\n",
    "import requests\n",
    "\n",
    "pp = pprint.PrettyPrinter()"
   ]
  },
  {
   "cell_type": "markdown",
   "id": "e6611297-629a-4ce4-920e-001f88a2dacb",
   "metadata": {
    "editable": true,
    "slideshow": {
     "slide_type": ""
    },
    "tags": []
   },
   "source": [
    "---\n",
    "## Identity\n",
    "\n",
    "In order to access any data on the protocol, you need to be authenticated. You can sign in with your regular Bluesky credentials, and you can protect your credentials by creating an [App Password](https://bsky.app/settings/app-passwords) for your project.\n",
    "\n",
    "### Create a session\n",
    "Once you authenticate, you receive a session object. This object includes your `accessJwt`, which is used to authenticate requests and is valid for 2 hours. Your `refreshJwt` lasts longer and is used only to update the session with a new access token. The session object also includes some basic account information, like your `did`, `handle`, and `email`. \n",
    "\n",
    "<div class=\"alert alert-block alert-info\">\n",
    "Your DID, or Decentralized Identifier, is your universal ID across atproto. You can read more on them <a href=\"https://atproto.com/specs/did\">here</a>.\n",
    "</div>"
   ]
  },
  {
   "cell_type": "code",
   "execution_count": null,
   "id": "8fa317b1-65bd-4f95-afc8-8ae70f77c0b3",
   "metadata": {
    "editable": true,
    "slideshow": {
     "slide_type": ""
    },
    "tags": []
   },
   "outputs": [],
   "source": [
    "# Create a Bluesky account at bsky.app\n",
    "bluesky_username = \"<username>\"\n",
    "bluesky_password = \"<password>\"\n",
    "\n",
    "session = requests.post(\n",
    "    \"https://bsky.social/xrpc/com.atproto.server.createSession\",\n",
    "    json={\"identifier\": bluesky_username, \"password\": bluesky_password},\n",
    ").json()\n",
    "\n",
    "pp.pprint(session)"
   ]
  },
  {
   "cell_type": "markdown",
   "id": "54a5772c-e5ee-4559-bda9-0ddd9e3902c9",
   "metadata": {
    "editable": true,
    "slideshow": {
     "slide_type": ""
    },
    "tags": []
   },
   "source": [
    "<div class=\"alert alert-block alert-info\">\n",
    "The HTTP API endpoint above used the atproto lexicon <code>com.atproto.server.createSession</code>\n",
    "\n",
    "<br />\n",
    "<br />\n",
    "    \n",
    "Lexicon is a schema system used to define RPC methods and record types. We'll use lexicons for the rest of this tutorial; you can read more about Lexicon <a href=\"https://atproto.com/guides/lexicon\">here</a> and see the HTTP API reference for all atproto and Bluesky lexicons <a href=\"https://docs.bsky.app/docs/category/http-reference\">here</a>.\n",
    "</div>"
   ]
  },
  {
   "cell_type": "markdown",
   "id": "96b3b6f1-a99d-44ec-ac55-9a7c28df37ef",
   "metadata": {
    "editable": true,
    "slideshow": {
     "slide_type": ""
    },
    "tags": []
   },
   "source": [
    "### Handle resolution\n",
    "\n",
    "If you have a user's handle and you need to resolve it to their DID, you can use the `com.atproto.identity.resolveHandle` lexicon:"
   ]
  },
  {
   "cell_type": "code",
   "execution_count": 11,
   "id": "588140a1-6e18-4e83-b510-40ff1b73190f",
   "metadata": {
    "editable": true,
    "slideshow": {
     "slide_type": ""
    },
    "tags": []
   },
   "outputs": [
    {
     "name": "stdout",
     "output_type": "stream",
     "text": [
      "{'did': 'did:plc:ragtjsm2j2vknwkz3zp4oxrd'}\n"
     ]
    }
   ],
   "source": [
    "paul_handle = \"pfrazee.com\"  # Your handle can be your own domain, too!\n",
    "\n",
    "paul_identity = requests.get(\n",
    "    \"https://bsky.social/xrpc/com.atproto.identity.resolveHandle\",\n",
    "    params={\"handle\": paul_handle},\n",
    "    headers={\"Authorization\": f\"Bearer {session['accessJwt']}\"},\n",
    ").json()\n",
    "\n",
    "pp.pprint(paul_identity)"
   ]
  },
  {
   "cell_type": "markdown",
   "id": "edcc9e70-96eb-4f7f-958e-59772c27932c",
   "metadata": {
    "editable": true,
    "slideshow": {
     "slide_type": ""
    },
    "tags": []
   },
   "source": [
    "---\n",
    "## Data repository\n",
    "\n",
    "A user's data is stored in their signed data repository (repo). Their repo holds the collections of all of their records, which include posts, comments, likes, follows, media blobs, etc.\n",
    "\n",
    "To access any user's data repository, you can use the `com.atproto.repo.describeRepo` lexicon:"
   ]
  },
  {
   "cell_type": "code",
   "execution_count": 19,
   "id": "094907b1-9f16-48a8-b66e-1e9cd7feaf57",
   "metadata": {},
   "outputs": [
    {
     "name": "stdout",
     "output_type": "stream",
     "text": [
      "{'collections': ['app.bsky.actor.profile',\n",
      "                 'app.bsky.feed.generator',\n",
      "                 'app.bsky.feed.like',\n",
      "                 'app.bsky.feed.post',\n",
      "                 'app.bsky.feed.repost',\n",
      "                 'app.bsky.graph.block',\n",
      "                 'app.bsky.graph.follow'],\n",
      " 'did': 'did:plc:wqowuobffl66jv3kpsvo7ak4',\n",
      " 'didDoc': {'@context': ['https://www.w3.org/ns/did/v1',\n",
      "                         'https://w3id.org/security/multikey/v1',\n",
      "                         'https://w3id.org/security/suites/secp256k1-2019/v1'],\n",
      "            'alsoKnownAs': ['at://skygaze.io'],\n",
      "            'id': 'did:plc:wqowuobffl66jv3kpsvo7ak4',\n",
      "            'service': [{'id': '#atproto_pds',\n",
      "                         'serviceEndpoint': 'https://inkcap.us-east.host.bsky.network',\n",
      "                         'type': 'AtprotoPersonalDataServer'}],\n",
      "            'verificationMethod': [{'controller': 'did:plc:wqowuobffl66jv3kpsvo7ak4',\n",
      "                                    'id': 'did:plc:wqowuobffl66jv3kpsvo7ak4#atproto',\n",
      "                                    'publicKeyMultibase': 'zQ3shgVBaFgscLHqXhN339HBuZ2WMbMeLE5GGtUBKxkxCA1C5',\n",
      "                                    'type': 'Multikey'}]},\n",
      " 'handle': 'skygaze.io',\n",
      " 'handleIsCorrect': True}\n"
     ]
    }
   ],
   "source": [
    "did = session[\"did\"]\n",
    "\n",
    "data_repository = requests.get(\n",
    "    \"https://bsky.social/xrpc/com.atproto.repo.describeRepo\",\n",
    "    params={\"repo\": did},\n",
    "    headers={\"Authorization\": session[\"accessJwt\"]},\n",
    ").json()\n",
    "\n",
    "pp.pprint(data_repository)"
   ]
  },
  {
   "cell_type": "markdown",
   "id": "c7f7be3e-defe-48bc-b0b2-9231f323bbaa",
   "metadata": {},
   "source": [
    "### Records\n",
    "\n",
    "A user's data repository stores all of their records, which represent any public user action: posts, likes, reposts, blocks, follows etc. All currently active records are stored in the repository, and current repository contents are publicly available.\n",
    "\n",
    "<div class=\"alert alert-block alert-info\">\n",
    "All of the records stored in a user's repo are \"outbound\" i.e. they only represent actions that the user has performed. For example, the records in Paul's data repository alone can answer the question \"who does Paul follow?\" because all of his follow records exist in his data repository. However, in order to answer the question \"who follows Paul?\" we would need to check every single user's repo across the entire network and see who has a follow record for Paul. This is also known as having a \"global view\" of the network, and we'll cover how that works in a bit.\n",
    "</div>\n",
    "\n",
    "The `collections` array in a user's data repo indicates all of the record types that that user has created. To retrieve all of a user's records of a given type, like all of their posts or all of their follows, you can use the `com.atproto.repo.listRecords` lexicon."
   ]
  },
  {
   "cell_type": "code",
   "execution_count": 28,
   "id": "40cd4de4-72d8-43e3-a7de-fd924b8b8a21",
   "metadata": {},
   "outputs": [
    {
     "name": "stdout",
     "output_type": "stream",
     "text": [
      "{'cursor': '3klqk3u246c2e',\n",
      " 'records': [{'cid': 'bafyreiht7rc6r5ivfx2hejnhf6hilnjv2vprkc4sfgb2peuzpeb2krxzdq',\n",
      "              'uri': 'at://did:plc:wqowuobffl66jv3kpsvo7ak4/app.bsky.feed.post/3klqk3u246c2e',\n",
      "              'value': {'$type': 'app.bsky.feed.post',\n",
      "                        'createdAt': '2024-02-19T03:51:52.796Z',\n",
      "                        'embed': {'$type': 'app.bsky.embed.external',\n",
      "                                  'external': {'description': 'Last week, '\n",
      "                                                              'Bluesky opened '\n",
      "                                                              'its doors, and '\n",
      "                                                              'now, it has ~5M '\n",
      "                                                              'users! In '\n",
      "                                                              'celebration of '\n",
      "                                                              'Bluesky’s '\n",
      "                                                              'public launch, '\n",
      "                                                              'we’re hosting a '\n",
      "                                                              'hackathon at '\n",
      "                                                              'the YC office '\n",
      "                                                              'in SF judged by '\n",
      "                                                              'Bluesky CEO Jay '\n",
      "                                                              'Graber and '\n",
      "                                                              'several...',\n",
      "                                               'thumb': {'$type': 'blob',\n",
      "                                                         'mimeType': 'image/jpeg',\n",
      "                                                         'ref': {'$link': 'bafkreib4pc6sjnhogtaoluipc33ewpsxdvd34r42slma5d75d6x6sm6the'},\n",
      "                                                         'size': 954165},\n",
      "                                               'title': 'RSVP to Bluesky AI '\n",
      "                                                        'Hackathon | Partiful',\n",
      "                                               'uri': 'https://partiful.com/e/AiscT5PsNTIrxNq58M5q'}},\n",
      "                        'langs': ['en'],\n",
      "                        'text': 'Bluesky hackathon coming up in SF on the 25th '\n",
      "                                '🥳'}}]}\n"
     ]
    }
   ],
   "source": [
    "did = session[\"did\"]\n",
    "\n",
    "my_posts = requests.get(\n",
    "    \"https://bsky.social/xrpc/com.atproto.repo.listRecords\",\n",
    "    params={\n",
    "        \"repo\": did,\n",
    "        \"collection\": \"app.bsky.feed.post\",\n",
    "        \"limit\": 1\n",
    "    },\n",
    "    headers={\"Authorization\": f\"Bearer {session['accessJwt']}\"},\n",
    ").json()\n",
    "\n",
    "pp.pprint(my_posts)"
   ]
  },
  {
   "cell_type": "markdown",
   "id": "749a7e42-d5e2-455c-b78c-af47fbfa2764",
   "metadata": {},
   "source": [
    "If you haven't posted on Bluesky yet, your `app.bsky.feed.post` collection will be an empty array. \n",
    "\n",
    "However, you can just as easily see any user's posts on the network. Let's get Paul's posts:"
   ]
  },
  {
   "cell_type": "code",
   "execution_count": 30,
   "id": "1b9c7d07-cda3-4836-a6a9-603564855cd0",
   "metadata": {
    "editable": true,
    "slideshow": {
     "slide_type": ""
    },
    "tags": []
   },
   "outputs": [
    {
     "name": "stdout",
     "output_type": "stream",
     "text": [
      "{'cursor': '3klvirybw6c2b',\n",
      " 'records': [{'cid': 'bafyreidnqpmg6knx6o3mkbonjeasne75hvmfnpevl4gyfcjohmnamwtkwm',\n",
      "              'uri': 'at://did:plc:ragtjsm2j2vknwkz3zp4oxrd/app.bsky.feed.post/3klvirybw6c2b',\n",
      "              'value': {'$type': 'app.bsky.feed.post',\n",
      "                        'createdAt': '2024-02-21T03:11:46.550Z',\n",
      "                        'langs': ['en'],\n",
      "                        'reply': {'parent': {'cid': 'bafyreienacnu743ohgg5tw36q77gbd4dpr74cwvytyser53odpjtp42kdi',\n",
      "                                             'uri': 'at://did:plc:i3ycqqigla52z3pc6b24w3ku/app.bsky.feed.post/3klvipy765k2o'},\n",
      "                                  'root': {'cid': 'bafyreihkpwdhddycutoqel6sya6vbpgjmgkq66kykocsctvbzvlttcwoo4',\n",
      "                                           'uri': 'at://did:plc:ragtjsm2j2vknwkz3zp4oxrd/app.bsky.feed.post/3klutu6krgk2o'}},\n",
      "                        'text': 'oh lol'}}]}\n"
     ]
    }
   ],
   "source": [
    "paul_did = paul_identity['did']\n",
    "\n",
    "paul_posts = requests.get(\n",
    "    \"https://bsky.social/xrpc/com.atproto.repo.listRecords\",\n",
    "    params={\n",
    "        \"repo\": paul_did,\n",
    "        \"collection\": \"app.bsky.feed.post\",\n",
    "        \"limit\": 1\n",
    "    },\n",
    "    headers={\"Authorization\": f\"Bearer {session['accessJwt']}\"},\n",
    ").json()\n",
    "\n",
    "pp.pprint(paul_posts)"
   ]
  },
  {
   "cell_type": "markdown",
   "id": "7319f130-687f-4fd9-bddb-7fde3cc1ed44",
   "metadata": {},
   "source": [
    "<div class=\"alert alert-block alert-info\">\n",
    "Posts, along with all other types of records, are identified using their <code>uri</code> and <code>cid</code>. \n",
    "    <ul>\n",
    "    <li>The <code>uri</code> can be thought of the path to that record, using the following format: <code>at://[did]/[record-type]/[record-key]</code>. </li>\n",
    "    <li>The `cid` is the record's commit hash value and is used to cryptographically validate the record. </li>\n",
    "    </ul>\n",
    "    \n",
    "See an in-depth explanation of post records <a href=\"https://docs.bsky.app/docs/advanced-guides/posts\">here</a>\n",
    "</div>\n",
    "\n",
    "### Scrolling\n",
    "A maximum of 100 records can be returned per request. The `cursor` can be used to scroll through all of the records in a given collection, regardless of its size:"
   ]
  },
  {
   "cell_type": "code",
   "execution_count": 31,
   "id": "b4b29358-efe3-457c-8a07-d76d3ff6b523",
   "metadata": {
    "editable": true,
    "scrolled": true,
    "slideshow": {
     "slide_type": ""
    },
    "tags": []
   },
   "outputs": [],
   "source": [
    "all_paul_posts = []\n",
    "\n",
    "more_posts = True\n",
    "cursor = ''\n",
    "\n",
    "while more_posts:\n",
    "    paul_posts_batch = requests.get(\n",
    "        \"https://bsky.social/xrpc/com.atproto.repo.listRecords\",\n",
    "        params={\n",
    "            \"repo\": paul_did,\n",
    "            \"collection\": \"app.bsky.actor.post\",\n",
    "            \"cursor\": cursor\n",
    "        },\n",
    "        headers={\"Authorization\": f\"Bearer {session['accessJwt']}\"},\n",
    "    ).json()\n",
    "\n",
    "    all_paul_posts.extend(paul_posts_batch['records'])\n",
    "\n",
    "    if 'cursor' in paul_posts_batch:\n",
    "        cursor = paul_posts_batch['cursor']\n",
    "    else:\n",
    "        more_posts = False\n",
    "\n",
    "    # Paul has a lot of posts 😅\n",
    "    if len(all_paul_posts) > 500:\n",
    "        more_posts = False"
   ]
  },
  {
   "cell_type": "markdown",
   "id": "ff1c8b1f-e05a-4456-97f6-6b18c208cc02",
   "metadata": {},
   "source": [
    "### Other records\n",
    "\n",
    "Just like posts, you can access other record type for any user, like:\n",
    "\n",
    "- `app.bsky.actor.profile`\n",
    "- `app.bsky.feed.like`\n",
    "- `app.bsky.feed.repost`\n",
    "- `app.bsky.graph.block`\n",
    "- `app.bsky.graph.follow`\n",
    "\n",
    "Check out all of the other atproto lexicons [here](https://docs.bsky.app/docs/category/http-reference). "
   ]
  },
  {
   "cell_type": "code",
   "execution_count": 34,
   "id": "407e0b52-2edc-46c3-a655-ec9a65504c6e",
   "metadata": {
    "editable": true,
    "slideshow": {
     "slide_type": ""
    },
    "tags": []
   },
   "outputs": [
    {
     "name": "stdout",
     "output_type": "stream",
     "text": [
      "{'cursor': '3klstnu522s2o',\n",
      " 'records': [{'cid': 'bafyreigdnspbjbytlqgsotaw7mdaqpj3m3at7stxlnocf6tgubgwhdf5la',\n",
      "              'uri': 'at://did:plc:ragtjsm2j2vknwkz3zp4oxrd/app.bsky.graph.follow/3klstnu522s2o',\n",
      "              'value': {'$type': 'app.bsky.graph.follow',\n",
      "                        'createdAt': '2024-02-20T01:48:19.526Z',\n",
      "                        'subject': 'did:plc:uhfmcrnunkr3whev3momfchq'}}]}\n"
     ]
    }
   ],
   "source": [
    "paul_follows = requests.get(\n",
    "    \"https://bsky.social/xrpc/com.atproto.repo.listRecords\",\n",
    "    params={\n",
    "        \"repo\": paul_did,\n",
    "        \"collection\": \"app.bsky.graph.follow\",\n",
    "        \"limit\": 1\n",
    "    },\n",
    "    headers={\"Authorization\": f\"Bearer {session['accessJwt']}\"},\n",
    ").json()\n",
    "\n",
    "pp.pprint(paul_follows)"
   ]
  },
  {
   "cell_type": "markdown",
   "id": "512acd23-4285-4da8-9dbc-14b94272e922",
   "metadata": {
    "editable": true,
    "slideshow": {
     "slide_type": ""
    },
    "tags": []
   },
   "source": [
    "## App View\n",
    "\n",
    "As mentioned, data repositories only include a user's \"outbound\" actions. In order to have a global view, like \"which users liked this post?\", an App View aggregates records across all data repositories on the network.\n",
    "\n",
    "The `app.bsky.*` endpoints "
   ]
  },
  {
   "cell_type": "code",
   "execution_count": null,
   "id": "143ccb02-3a02-4558-a083-eb964e5e98c0",
   "metadata": {},
   "outputs": [],
   "source": [
    "# Example of calling https://bsky.social/xrpc/app.bsky.feed.getLikes"
   ]
  },
  {
   "cell_type": "code",
   "execution_count": null,
   "id": "ec89d023-1a8d-47aa-8620-9b819d2ae143",
   "metadata": {},
   "outputs": [],
   "source": [
    "# Example of calling https://bsky.social/xrpc/app.bsky.graph.getFollowers"
   ]
  },
  {
   "cell_type": "code",
   "execution_count": null,
   "id": "2d706e29-94a3-49b9-9ca9-289e8506078c",
   "metadata": {},
   "outputs": [],
   "source": [
    "# Example of calling https://bsky.social/xrpc/app.bsky.actor.getProfile (gives you more info than their profile record)"
   ]
  },
  {
   "cell_type": "markdown",
   "id": "70bc495a-d357-44ef-8a20-c3bd3b33fa34",
   "metadata": {},
   "source": [
    "---\n",
    "## Feed Generators\n",
    "\n",
    "[Link to feed generator examples in Python and Typescript]"
   ]
  },
  {
   "cell_type": "markdown",
   "id": "a5c426cf-4052-4f2c-a4dc-17a56e5808e2",
   "metadata": {},
   "source": [
    "---\n",
    "## Firehose\n",
    "\n",
    "How does the App View index all of the content from the data repositories? It uses the global firehose, or Relay, which streams updates from each data repository.\n",
    "\n",
    "[Link to firehose examples in Python and Typescript]"
   ]
  },
  {
   "cell_type": "code",
   "execution_count": 17,
   "id": "dc32730e-1e6c-4970-bbc7-441651fe06fb",
   "metadata": {},
   "outputs": [
    {
     "data": {
      "text/html": [
       "<style>\n",
       ".output {\n",
       "    max-height: 150px; /* Adjust the height as needed */\n",
       "    overflow-y: auto; /* Enables vertical scrolling */\n",
       "}\n",
       "</style>\n"
      ],
      "text/plain": [
       "<IPython.core.display.HTML object>"
      ]
     },
     "metadata": {},
     "output_type": "display_data"
    }
   ],
   "source": []
  },
  {
   "cell_type": "code",
   "execution_count": null,
   "id": "cc64db97-3474-4c53-baf8-7d475999dd66",
   "metadata": {},
   "outputs": [],
   "source": []
  }
 ],
 "metadata": {
  "kernelspec": {
   "display_name": "Python 3 (ipykernel)",
   "language": "python",
   "name": "python3"
  },
  "language_info": {
   "codemirror_mode": {
    "name": "ipython",
    "version": 3
   },
   "file_extension": ".py",
   "mimetype": "text/x-python",
   "name": "python",
   "nbconvert_exporter": "python",
   "pygments_lexer": "ipython3",
   "version": "3.12.2"
  }
 },
 "nbformat": 4,
 "nbformat_minor": 5
}
