{
 "cells": [
  {
   "cell_type": "markdown",
   "id": "fec12398-b882-4698-85c8-9e03414a82cc",
   "metadata": {
    "editable": true,
    "slideshow": {
     "slide_type": ""
    },
    "tags": []
   },
   "source": [
    "# AT Protocol 101\n",
    "\n",
    "The Authenticated Transfer Protocol, aka atproto, is a federated protocol for large-scale distributed social applications. This notebook introduces how to interact with the data on the protocol, all of which is publicly available.\n",
    "\n",
    "We'll use Python, without an SDK, so you can see how it works behind the scenes, but SDKs for multiple languages have been developed, including [Typescript](https://github.com/bluesky-social/atproto/tree/main/packages/api), [Python](https://atproto.blue/), [Dart](https://atprotodart.com/), and [Go](https://github.com/bluesky-social/indigo/tree/main).\n",
    "\n",
    "For more in-depth information, check out:\n",
    "- [Bluesky's documentation](https://docs.bsky.app)\n",
    "- Skygaze's [starter repositories](https://github.com/skygaze-ai), which include bot and feed generator templates"
   ]
  },
  {
   "cell_type": "code",
   "execution_count": 6,
   "id": "8983df2c-9247-4aa3-b357-76df82697860",
   "metadata": {
    "editable": true,
    "slideshow": {
     "slide_type": ""
    },
    "tags": []
   },
   "outputs": [
    {
     "name": "stdout",
     "output_type": "stream",
     "text": [
      "Requirement already satisfied: requests in /Users/jett/.pyenv/versions/3.10.8/lib/python3.10/site-packages (2.31.0)\n",
      "Requirement already satisfied: charset-normalizer<4,>=2 in /Users/jett/.pyenv/versions/3.10.8/lib/python3.10/site-packages (from requests) (3.3.2)\n",
      "Requirement already satisfied: idna<4,>=2.5 in /Users/jett/.pyenv/versions/3.10.8/lib/python3.10/site-packages (from requests) (3.6)\n",
      "Requirement already satisfied: urllib3<3,>=1.21.1 in /Users/jett/.pyenv/versions/3.10.8/lib/python3.10/site-packages (from requests) (2.2.1)\n",
      "Requirement already satisfied: certifi>=2017.4.17 in /Users/jett/.pyenv/versions/3.10.8/lib/python3.10/site-packages (from requests) (2024.2.2)\n"
     ]
    }
   ],
   "source": [
    "!pip install requests;\n",
    "\n",
    "import pprint\n",
    "import requests\n",
    "\n",
    "pp = pprint.PrettyPrinter()"
   ]
  },
  {
   "cell_type": "markdown",
   "id": "c2cc51f4-9f5c-4955-b260-5602a510a64f",
   "metadata": {},
   "source": [
    "---\n",
    "## Identity\n",
    "\n",
    "Your DID, or Decentralized Identifier, is your universal ID across atproto. You can change your handle, but your DID remains the same. You can read more on DIDs <a href=\"https://atproto.com/specs/did\">here</a>.\n",
    "\n",
    "If you have a user's handle and you need to resolve it to their DID, you can use the `com.atproto.identity.resolveHandle` lexicon:"
   ]
  },
  {
   "cell_type": "code",
   "execution_count": 7,
   "id": "59ef9d2d-518e-4126-8247-94a1fe51cc89",
   "metadata": {},
   "outputs": [
    {
     "name": "stdout",
     "output_type": "stream",
     "text": [
      "{'did': 'did:plc:yjmf4d5se4m23vgs7h5lyfgf'}\n"
     ]
    }
   ],
   "source": [
    "handle = \"foobar.bsky.social\"  # Input your handle here\n",
    "\n",
    "resolved_handle = requests.get(\n",
    "    \"https://bsky.social/xrpc/com.atproto.identity.resolveHandle\",\n",
    "    params={\"handle\": handle}\n",
    ").json()\n",
    "\n",
    "pp.pprint(resolved_handle)"
   ]
  },
  {
   "cell_type": "markdown",
   "id": "54a5772c-e5ee-4559-bda9-0ddd9e3902c9",
   "metadata": {
    "editable": true,
    "slideshow": {
     "slide_type": ""
    },
    "tags": []
   },
   "source": [
    "<div class=\"alert alert-block alert-info\">\n",
    "The HTTP API endpoint above used the atproto lexicon <code>com.atproto.identity.resolveHandle</code>\n",
    "\n",
    "<br />\n",
    "<br />\n",
    "    \n",
    "Lexicon is a schema system used to define RPC methods and record types. We'll use lexicons for the rest of this tutorial; you can read more about Lexicon <a href=\"https://atproto.com/guides/lexicon\">here</a> and see the HTTP API reference for all atproto and Bluesky lexicons <a href=\"https://docs.bsky.app/docs/category/http-reference\">here</a>.\n",
    "</div>"
   ]
  },
  {
   "cell_type": "code",
   "execution_count": 8,
   "id": "78c89894-688e-4763-98c4-9341aba97cba",
   "metadata": {},
   "outputs": [
    {
     "name": "stdout",
     "output_type": "stream",
     "text": [
      "{'did': 'did:plc:ragtjsm2j2vknwkz3zp4oxrd'}\n"
     ]
    }
   ],
   "source": [
    "# You can get the DID for any user, like Paul:\n",
    "\n",
    "handle = \"pfrazee.com\"  # Your handle can be your domain, too!\n",
    "\n",
    "resolved_handle = requests.get(\n",
    "    \"https://bsky.social/xrpc/com.atproto.identity.resolveHandle\",\n",
    "    params={\"handle\": handle}\n",
    ").json()\n",
    "\n",
    "pp.pprint(resolved_handle)"
   ]
  },
  {
   "cell_type": "markdown",
   "id": "edcc9e70-96eb-4f7f-958e-59772c27932c",
   "metadata": {
    "editable": true,
    "slideshow": {
     "slide_type": ""
    },
    "tags": []
   },
   "source": [
    "---\n",
    "## Data repository\n",
    "\n",
    "A user's data is stored in their signed data repository (repo). Their repo holds the collections of all of their records, which include posts, comments, likes, follows, media blobs, etc. All currently active records are stored in the repository, and current repository contents are publicly available.\n",
    "\n",
    "To access any user's data repository, you can use the `com.atproto.repo.describeRepo` lexicon:"
   ]
  },
  {
   "cell_type": "code",
   "execution_count": 9,
   "id": "094907b1-9f16-48a8-b66e-1e9cd7feaf57",
   "metadata": {},
   "outputs": [
    {
     "name": "stdout",
     "output_type": "stream",
     "text": [
      "{'collections': ['app.bsky.actor.profile',\n",
      "                 'app.bsky.feed.like',\n",
      "                 'app.bsky.feed.post',\n",
      "                 'app.bsky.feed.repost',\n",
      "                 'app.bsky.feed.threadgate',\n",
      "                 'app.bsky.graph.block',\n",
      "                 'app.bsky.graph.follow',\n",
      "                 'app.bsky.graph.list',\n",
      "                 'app.bsky.graph.listitem'],\n",
      " 'did': 'did:plc:ragtjsm2j2vknwkz3zp4oxrd',\n",
      " 'didDoc': {'@context': ['https://www.w3.org/ns/did/v1',\n",
      "                         'https://w3id.org/security/multikey/v1',\n",
      "                         'https://w3id.org/security/suites/secp256k1-2019/v1'],\n",
      "            'alsoKnownAs': ['at://pfrazee.com'],\n",
      "            'id': 'did:plc:ragtjsm2j2vknwkz3zp4oxrd',\n",
      "            'service': [{'id': '#atproto_pds',\n",
      "                         'serviceEndpoint': 'https://morel.us-east.host.bsky.network',\n",
      "                         'type': 'AtprotoPersonalDataServer'}],\n",
      "            'verificationMethod': [{'controller': 'did:plc:ragtjsm2j2vknwkz3zp4oxrd',\n",
      "                                    'id': 'did:plc:ragtjsm2j2vknwkz3zp4oxrd#atproto',\n",
      "                                    'publicKeyMultibase': 'zQ3shbTzUCq5zuk7oSj5zaJndqWhjwGDaGuvBXpjg8C19qssW',\n",
      "                                    'type': 'Multikey'}]},\n",
      " 'handle': 'pfrazee.com',\n",
      " 'handleIsCorrect': True}\n"
     ]
    }
   ],
   "source": [
    "did = 'did:plc:ragtjsm2j2vknwkz3zp4oxrd'  # Get your DID from the example above\n",
    "\n",
    "data_repository = requests.get(\n",
    "    \"https://bsky.social/xrpc/com.atproto.repo.describeRepo\",\n",
    "    params={\"repo\": did}\n",
    ")\n",
    "\n",
    "pp.pprint(data_repository.json())"
   ]
  },
  {
   "cell_type": "markdown",
   "id": "c7f7be3e-defe-48bc-b0b2-9231f323bbaa",
   "metadata": {},
   "source": [
    "### Records\n",
    "\n",
    "The records in your data repository correspond exclusively to your \"outbound\" actions. For example, if you follow Paul or like one of Paul's posts, those records will be included in your data repository. However, if Paul were to follow you, there would be no record of that in your data repository; only Paul's.\n",
    "\n",
    "<div class=\"alert alert-block alert-info\">\n",
    "The records in your data repository alone can answer the question \"who do you follow?\" because all of your follow records exist in your data repository. However, in order to answer the question \"who follows you?\" we would need to check every single user's repo across the entire network and see who has a follow record pointing to your DID. This is also known as having a \"global view\" of the network, and we'll cover how that works in a bit.\n",
    "</div>\n",
    "\n",
    "Posts, along with all other types of records, are identified using their <code>uri</code> and <code>cid</code>. \n",
    "- The `uri` can be thought of the path to that record, using the following format: `at://[did]/[record-type]/[record-key]`.\n",
    "- The `cid` is the record's commit hash value and is used to cryptographically validate the record.\n",
    "    \n",
    "See an in-depth explanation of post records <a href=\"https://docs.bsky.app/docs/advanced-guides/posts\">here</a>\n",
    "\n",
    "The `collections` array in a user's data repo indicates all of the record types that that user has created. To retrieve all of a user's records of a given type, like all of their posts or all of their follows, you can use the `com.atproto.repo.listRecords` lexicon."
   ]
  },
  {
   "cell_type": "code",
   "execution_count": 5,
   "id": "40cd4de4-72d8-43e3-a7de-fd924b8b8a21",
   "metadata": {},
   "outputs": [
    {
     "name": "stdout",
     "output_type": "stream",
     "text": [
      "{'cursor': '3klfrd6r7y32d',\n",
      " 'records': [{'cid': 'bafyreiejy7dvbwpeafg5reqcl5utbae2thtgru6q33lzou7e3vip7eschq',\n",
      "              'uri': 'at://did:plc:p7flpn65bzf3kzjrp2xftshq/app.bsky.feed.post/3klfrd6r7y32d',\n",
      "              'value': {'$type': 'app.bsky.feed.post',\n",
      "                        'createdAt': '2024-02-14T21:01:57.919Z',\n",
      "                        'langs': ['en'],\n",
      "                        'reply': {'parent': {'cid': 'bafyreiam25c245puhavkbp3xmxqpxnkfzlixvz5p46o2caxoa2m5f7gava',\n",
      "                                             'uri': 'at://did:plc:vwzwgnygau7ed7b7wt5ux7y2/app.bsky.feed.post/3kle5tg7iu325'},\n",
      "                                  'root': {'cid': 'bafyreiam25c245puhavkbp3xmxqpxnkfzlixvz5p46o2caxoa2m5f7gava',\n",
      "                                           'uri': 'at://did:plc:vwzwgnygau7ed7b7wt5ux7y2/app.bsky.feed.post/3kle5tg7iu325'}},\n",
      "                        'text': '__innit__'}}]}\n"
     ]
    }
   ],
   "source": [
    "my_posts = requests.get(\n",
    "    \"https://bsky.social/xrpc/com.atproto.repo.listRecords\",\n",
    "    params={\n",
    "        \"repo\": did,\n",
    "        \"collection\": \"app.bsky.feed.post\",\n",
    "        \"limit\": 1\n",
    "    }\n",
    ")\n",
    "\n",
    "pp.pprint(my_posts.json())"
   ]
  },
  {
   "cell_type": "markdown",
   "id": "749a7e42-d5e2-455c-b78c-af47fbfa2764",
   "metadata": {},
   "source": [
    "If you haven't posted on Bluesky yet, your `app.bsky.feed.post` collection will be an empty array. \n",
    "\n",
    "However, you can just as easily see any user's posts on the network. Let's get Paul's posts:"
   ]
  },
  {
   "cell_type": "code",
   "execution_count": 30,
   "id": "1b9c7d07-cda3-4836-a6a9-603564855cd0",
   "metadata": {
    "editable": true,
    "slideshow": {
     "slide_type": ""
    },
    "tags": []
   },
   "outputs": [
    {
     "name": "stdout",
     "output_type": "stream",
     "text": [
      "{'cursor': '3klvirybw6c2b',\n",
      " 'records': [{'cid': 'bafyreidnqpmg6knx6o3mkbonjeasne75hvmfnpevl4gyfcjohmnamwtkwm',\n",
      "              'uri': 'at://did:plc:ragtjsm2j2vknwkz3zp4oxrd/app.bsky.feed.post/3klvirybw6c2b',\n",
      "              'value': {'$type': 'app.bsky.feed.post',\n",
      "                        'createdAt': '2024-02-21T03:11:46.550Z',\n",
      "                        'langs': ['en'],\n",
      "                        'reply': {'parent': {'cid': 'bafyreienacnu743ohgg5tw36q77gbd4dpr74cwvytyser53odpjtp42kdi',\n",
      "                                             'uri': 'at://did:plc:i3ycqqigla52z3pc6b24w3ku/app.bsky.feed.post/3klvipy765k2o'},\n",
      "                                  'root': {'cid': 'bafyreihkpwdhddycutoqel6sya6vbpgjmgkq66kykocsctvbzvlttcwoo4',\n",
      "                                           'uri': 'at://did:plc:ragtjsm2j2vknwkz3zp4oxrd/app.bsky.feed.post/3klutu6krgk2o'}},\n",
      "                        'text': 'oh lol'}}]}\n"
     ]
    }
   ],
   "source": [
    "paul_did = 'did:plc:ragtjsm2j2vknwkz3zp4oxrd'\n",
    "\n",
    "paul_posts = requests.get(\n",
    "    \"https://bsky.social/xrpc/com.atproto.repo.listRecords\",\n",
    "    params={\n",
    "        \"repo\": paul_did,\n",
    "        \"collection\": \"app.bsky.feed.post\",\n",
    "        \"limit\": 1\n",
    "    },\n",
    "    headers={\"Authorization\": f\"Bearer {session['accessJwt']}\"},\n",
    ")\n",
    "\n",
    "pp.pprint(paul_posts.json())"
   ]
  },
  {
   "cell_type": "markdown",
   "id": "7319f130-687f-4fd9-bddb-7fde3cc1ed44",
   "metadata": {},
   "source": [
    "### Scrolling\n",
    "A maximum of 100 records can be returned per request. The `cursor` can be used to scroll through all of the records in a given collection, regardless of its size:"
   ]
  },
  {
   "cell_type": "code",
   "execution_count": 31,
   "id": "b4b29358-efe3-457c-8a07-d76d3ff6b523",
   "metadata": {
    "editable": true,
    "scrolled": true,
    "slideshow": {
     "slide_type": ""
    },
    "tags": []
   },
   "outputs": [],
   "source": [
    "all_paul_posts = []\n",
    "\n",
    "more_posts = True\n",
    "cursor = ''\n",
    "\n",
    "while more_posts:\n",
    "    paul_posts_batch = requests.get(\n",
    "        \"https://bsky.social/xrpc/com.atproto.repo.listRecords\",\n",
    "        params={\n",
    "            \"repo\": paul_did,\n",
    "            \"collection\": \"app.bsky.actor.post\",\n",
    "            \"cursor\": cursor\n",
    "        },\n",
    "        headers={\"Authorization\": f\"Bearer {session['accessJwt']}\"},\n",
    "    ).json()\n",
    "\n",
    "    all_paul_posts.extend(paul_posts_batch['records'])\n",
    "\n",
    "    if 'cursor' in paul_posts_batch:\n",
    "        cursor = paul_posts_batch['cursor']\n",
    "    else:\n",
    "        more_posts = False\n",
    "\n",
    "    # Paul has a lot of posts 😅\n",
    "    if len(all_paul_posts) > 500:\n",
    "        more_posts = False"
   ]
  },
  {
   "cell_type": "markdown",
   "id": "ff1c8b1f-e05a-4456-97f6-6b18c208cc02",
   "metadata": {},
   "source": [
    "### Other records\n",
    "\n",
    "Just like posts, you can access other record type for any user, like:\n",
    "\n",
    "- `app.bsky.actor.profile`\n",
    "- `app.bsky.feed.like`\n",
    "- `app.bsky.feed.repost`\n",
    "- `app.bsky.graph.block`\n",
    "- `app.bsky.graph.follow`\n",
    "\n",
    "Check out all of the other atproto lexicons [here](https://docs.bsky.app/docs/category/http-reference). "
   ]
  },
  {
   "cell_type": "code",
   "execution_count": 34,
   "id": "407e0b52-2edc-46c3-a655-ec9a65504c6e",
   "metadata": {
    "editable": true,
    "slideshow": {
     "slide_type": ""
    },
    "tags": []
   },
   "outputs": [
    {
     "name": "stdout",
     "output_type": "stream",
     "text": [
      "{'cursor': '3klstnu522s2o',\n",
      " 'records': [{'cid': 'bafyreigdnspbjbytlqgsotaw7mdaqpj3m3at7stxlnocf6tgubgwhdf5la',\n",
      "              'uri': 'at://did:plc:ragtjsm2j2vknwkz3zp4oxrd/app.bsky.graph.follow/3klstnu522s2o',\n",
      "              'value': {'$type': 'app.bsky.graph.follow',\n",
      "                        'createdAt': '2024-02-20T01:48:19.526Z',\n",
      "                        'subject': 'did:plc:uhfmcrnunkr3whev3momfchq'}}]}\n"
     ]
    }
   ],
   "source": [
    "paul_follows = requests.get(\n",
    "    \"https://bsky.social/xrpc/com.atproto.repo.listRecords\",\n",
    "    params={\n",
    "        \"repo\": paul_did,\n",
    "        \"collection\": \"app.bsky.graph.follow\",\n",
    "        \"limit\": 1\n",
    "    }\n",
    ")\n",
    "\n",
    "pp.pprint(paul_follows.json())"
   ]
  },
  {
   "cell_type": "markdown",
   "id": "e6611297-629a-4ce4-920e-001f88a2dacb",
   "metadata": {
    "editable": true,
    "slideshow": {
     "slide_type": ""
    },
    "tags": []
   },
   "source": [
    "---\n",
    "## Authentication\n",
    "\n",
    "Most of the data on the protocol is publicly available. However, to access data within the App View (as well as any of your own private data, like mutes) you must authenticate with your regular Bluesky credentials. You can protect your credentials by creating an [App Password](https://bsky.app/settings/app-passwords) for your project.\n",
    "\n",
    "### Create a session\n",
    "Once you authenticate, you receive a session object. This object includes your `accessJwt`, which is used to authenticate requests and is valid for 2 hours. Your `refreshJwt` lasts longer and is used only to update the session with a new access token. The session object also includes some basic account information, like your `did`, `handle`, and `email`. "
   ]
  },
  {
   "cell_type": "code",
   "execution_count": null,
   "id": "8fa317b1-65bd-4f95-afc8-8ae70f77c0b3",
   "metadata": {
    "editable": true,
    "slideshow": {
     "slide_type": ""
    },
    "tags": []
   },
   "outputs": [],
   "source": [
    "# Create a Bluesky account at bsky.app\n",
    "bluesky_username = \"<username>\"\n",
    "bluesky_password = \"<password>\"\n",
    "\n",
    "session = requests.post(\n",
    "    \"https://bsky.social/xrpc/com.atproto.server.createSession\",\n",
    "    json={\"identifier\": bluesky_username, \"password\": bluesky_password},\n",
    ").json()\n",
    "\n",
    "pp.pprint(session)"
   ]
  },
  {
   "cell_type": "markdown",
   "id": "512acd23-4285-4da8-9dbc-14b94272e922",
   "metadata": {
    "editable": true,
    "slideshow": {
     "slide_type": ""
    },
    "tags": []
   },
   "source": [
    "---\n",
    "## App View\n",
    "\n",
    "As mentioned, data repositories only include a user's \"outbound\" actions. In order to have a global view, like \"which users liked this post?\", an App View aggregates records across all data repositories on the network.\n",
    "\n",
    "The `app.bsky.*` endpoints pull information from the global App View:"
   ]
  },
  {
   "cell_type": "code",
   "execution_count": 12,
   "id": "143ccb02-3a02-4558-a083-eb964e5e98c0",
   "metadata": {},
   "outputs": [
    {
     "name": "stdout",
     "output_type": "stream",
     "text": [
      "{'cursor': 'did:plc:mm6g3tgaumdqvfvlij526zz7',\n",
      " 'likes': [{'actor': {'avatar': 'https://cdn.bsky.app/img/avatar/plain/did:plc:mm6g3tgaumdqvfvlij526zz7/bafkreicflmhdf27hqiker6u77k32yw72rbiqwsufnkj7ttzicloquejzt4@jpeg',\n",
      "                      'description': '#Toronto Her/She. 🏳️\\u200d⚧️ TRANS 👉🏻 '\n",
      "                                     'https://gofund.me/fab678d0 or '\n",
      "                                     'https://ko-fi.com/monicaellerose\\n'\n",
      "                                     '\\n'\n",
      "                                     'Socials 🔗 twitch.tv/monicaellerose \\n'\n",
      "                                     '\\n'\n",
      "                                     'User: #44620  ',\n",
      "                      'did': 'did:plc:mm6g3tgaumdqvfvlij526zz7',\n",
      "                      'displayName': 'Monica Rose',\n",
      "                      'handle': 'monicarose.ca',\n",
      "                      'indexedAt': '2024-02-23T00:32:58.929Z',\n",
      "                      'labels': [],\n",
      "                      'viewer': {'blockedBy': False,\n",
      "                                 'followedBy': 'at://did:plc:mm6g3tgaumdqvfvlij526zz7/app.bsky.graph.follow/3kgu62s5sfm2w',\n",
      "                                 'muted': False}},\n",
      "            'createdAt': '2024-02-21T03:38:15.557Z',\n",
      "            'indexedAt': '2024-02-21T03:38:15.557Z'}],\n",
      " 'uri': 'at://did:plc:ragtjsm2j2vknwkz3zp4oxrd/app.bsky.feed.post/3klvirybw6c2b'}\n"
     ]
    }
   ],
   "source": [
    "# Get the likes for a given post\n",
    "post_uri = \"at://did:plc:ragtjsm2j2vknwkz3zp4oxrd/app.bsky.feed.post/3klvirybw6c2b\"\n",
    "\n",
    "post_likes = requests.get(\n",
    "    \"https://bsky.social/xrpc/app.bsky.feed.getLikes\",\n",
    "    params={\n",
    "        \"uri\": post_uri,\n",
    "        \"limit\": 1\n",
    "    },\n",
    "    headers={\"Authorization\": f\"Bearer {session['accessJwt']}\"},\n",
    ")\n",
    "\n",
    "pp.pprint(post_likes.json())"
   ]
  },
  {
   "cell_type": "code",
   "execution_count": 14,
   "id": "ec89d023-1a8d-47aa-8620-9b819d2ae143",
   "metadata": {},
   "outputs": [
    {
     "name": "stdout",
     "output_type": "stream",
     "text": [
      "{'cursor': '3km7wfn7of523',\n",
      " 'followers': [{'did': 'did:plc:3gukbz6l2gmzbxjtguukh4tq',\n",
      "                'displayName': '',\n",
      "                'handle': 'rukmini.bsky.social',\n",
      "                'indexedAt': '2024-02-25T05:04:16.982Z',\n",
      "                'labels': [],\n",
      "                'viewer': {'blockedBy': False, 'muted': False}}],\n",
      " 'subject': {'avatar': 'https://cdn.bsky.app/img/avatar/plain/did:plc:ragtjsm2j2vknwkz3zp4oxrd/bafkreihhpqdyntku66himwor5wlhtdo44hllmngj2ofmbqnm25bdm454wq@jpeg',\n",
      "             'description': 'Developer at Bluesky. The one who puts bugs in '\n",
      "                            'this app. s/acc (shitpost accelerationist). Turbo '\n",
      "                            'dude. He/him',\n",
      "             'did': 'did:plc:ragtjsm2j2vknwkz3zp4oxrd',\n",
      "             'displayName': 'Paul Frazee (hogfather arc) 🦋',\n",
      "             'handle': 'pfrazee.com',\n",
      "             'indexedAt': '2024-02-22T23:36:25.729Z',\n",
      "             'labels': [],\n",
      "             'viewer': {'blockedBy': False, 'muted': False}}}\n"
     ]
    }
   ],
   "source": [
    "# Get the followers of a certain account\n",
    "did = \"did:plc:ragtjsm2j2vknwkz3zp4oxrd\"\n",
    "\n",
    "followers = requests.get(\n",
    "    \"https://bsky.social/xrpc/app.bsky.graph.getFollowers\",\n",
    "    params={\n",
    "        \"actor\": did,\n",
    "        \"limit\": 1\n",
    "    },\n",
    "    headers={\"Authorization\": f\"Bearer {session['accessJwt']}\"},\n",
    ")\n",
    "\n",
    "pp.pprint(followers.json())"
   ]
  },
  {
   "cell_type": "code",
   "execution_count": 15,
   "id": "3b63d4b5-49ad-4a11-96da-6dbc175c1937",
   "metadata": {},
   "outputs": [
    {
     "name": "stdout",
     "output_type": "stream",
     "text": [
      "{'preferences': [{'$type': 'app.bsky.actor.defs#adultContentPref',\n",
      "                  'enabled': False},\n",
      "                 {'$type': 'app.bsky.actor.defs#feedViewPref',\n",
      "                  'feed': 'home',\n",
      "                  'hideQuotePosts': False,\n",
      "                  'hideReplies': False,\n",
      "                  'hideRepliesByLikeCount': 2,\n",
      "                  'hideRepliesByUnfollowed': False,\n",
      "                  'hideReposts': False},\n",
      "                 {'$type': 'app.bsky.actor.defs#savedFeedsPref',\n",
      "                  'pinned': ['at://did:plc:z72i7hdynmk6r22z27h6tvur/app.bsky.feed.generator/whats-hot',\n",
      "                             'at://did:plc:z72i7hdynmk6r22z27h6tvur/app.bsky.feed.generator/with-friends',\n",
      "                             'at://did:plc:wqowuobffl66jv3kpsvo7ak4/app.bsky.feed.generator/the-algorithm'],\n",
      "                  'saved': ['at://did:plc:z72i7hdynmk6r22z27h6tvur/app.bsky.feed.generator/bsky-team',\n",
      "                            'at://did:plc:z72i7hdynmk6r22z27h6tvur/app.bsky.feed.generator/with-friends',\n",
      "                            'at://did:plc:z72i7hdynmk6r22z27h6tvur/app.bsky.feed.generator/whats-hot',\n",
      "                            'at://did:plc:z72i7hdynmk6r22z27h6tvur/app.bsky.feed.generator/hot-classic',\n",
      "                            'at://did:plc:wqowuobffl66jv3kpsvo7ak4/app.bsky.feed.generator/the-algorithm']}]}\n"
     ]
    }
   ],
   "source": [
    "# Get your preferences (private -- can only view your own)\n",
    "preferences = requests.get(\n",
    "    \"https://bsky.social/xrpc/app.bsky.actor.getPreferences\",\n",
    "    headers={\"Authorization\": f\"Bearer {session['accessJwt']}\"},\n",
    ")\n",
    "\n",
    "pp.pprint(preferences.json())"
   ]
  }
 ],
 "metadata": {
  "kernelspec": {
   "display_name": "Python 3 (ipykernel)",
   "language": "python",
   "name": "python3"
  },
  "language_info": {
   "codemirror_mode": {
    "name": "ipython",
    "version": 3
   },
   "file_extension": ".py",
   "mimetype": "text/x-python",
   "name": "python",
   "nbconvert_exporter": "python",
   "pygments_lexer": "ipython3",
   "version": "3.12.2"
  }
 },
 "nbformat": 4,
 "nbformat_minor": 5
}
